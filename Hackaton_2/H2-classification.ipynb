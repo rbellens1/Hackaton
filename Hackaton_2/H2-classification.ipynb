{
 "cells": [
  {
   "cell_type": "markdown",
   "metadata": {},
   "source": [
    "# **[LEPL1109] - STATISTICS AND DATA SCIENCES**\n",
    "## **Hackaton 02 - Classification: Diabetes Health indicators**\n",
    "\\\n",
    "Prof. D. Hainaut\\\n",
    "Prod. L. Jacques\\\n",
    "\\\n",
    "\\\n",
    "Adrien Banse (adrien.banse@uclouvain.be)\\\n",
    "Jana Jovcheva (jana.jovcheva@uclouvain.be)\\\n",
    "François Lessage (francois.lessage@uclouvain.be)\\\n",
    "Sofiane Tanji (sofiane.tanji@uclouvain.be)"
   ]
  },
  {
   "cell_type": "markdown",
   "metadata": {},
   "source": [
    "![alt text](figures/diab_illustration.jpg)"
   ]
  },
  {
   "cell_type": "markdown",
   "metadata": {},
   "source": [
    "<div class=\"alert alert-danger\">\n",
    "<b>[IMPORTANT] Read all the documentation</b>  <br>\n",
    "    Make sure that you read the whole notebook, <b>and</b> the <code>README.md</code> file in the folder.\n",
    "</div>"
   ]
  },
  {
   "cell_type": "markdown",
   "metadata": {},
   "source": [
    "# **Guidelines and Deliverables**\n",
    "\n",
    "*   This hackaton is due on the **29 November 2024 at 23h59**\n",
    "*   Copying code or answers from other groups (or from the internet) is strictly forbidden. <b>Each source of inspiration (stack overflow, git, other groups, ChatGPT...) must be clearly indicated!</b>\n",
    "*  This notebook (with the \"ipynb\" extension) file, the Python source file (\".py\"), the report (PDF format) and all other files that are necessary to run your code must be delivered on <b>Moodle</b>.\n",
    "* Only the PDF report and the python source file will be graded, both on their content and the quality of the text / figures.\n",
    "  * 4/10 for the code.\n",
    "  * 4/10 for the Latex report.\n",
    "  * 2/10 for the vizualisation. <br><br>\n",
    "\n",
    "<div class=\"alert alert-info\">\n",
    "<b>[DELIVERABLE] Summary</b>  <br>\n",
    "After the reading of this document (and playing with the code!), we expect you to provide us with:\n",
    "<ol>\n",
    "   <li> a PDF file (written in LaTeX, see example on Moodle) that answers all the questions below. The report should contain high quality figures with named axes (we recommend saving plots with the <samp>.pdf</samp> extension);\n",
    "   <li> a Python file with your classifier implementation. Please follow the template that is provided and ensure it passes the so-called <i>sanity</i> tests;\n",
    "   <li> this Jupyter Notebook (it will not be read, just checked for plagiarism);\n",
    "   <li> and all other files (not the datasets!) we would need to run your code.\n",
    "</ol>\n",
    "</div>\n",
    "\n",
    "As mentioned above, plagiarism is forbidden. However, we cannot forbid you to use artificial intelligence BUT we remind you that the aim of this project is to learn classification on your own and with the help of the course material. Finally, we remind you that for the same question, artificial intelligence presents similar solutions, which could be perceived as a form of plagiarism."
   ]
  },
  {
   "cell_type": "markdown",
   "metadata": {},
   "source": [
    "# **Context & Objective**\n",
    "Diabetes is among the most prevalent chronic diseases in the United States, impacting millions of Americans each year and exerting a significant financial burden on the economy. Diabetes is a serious chronic disease in which individuals lose the ability to effectively regulate levels of glucose in the blood, and can lead to reduced quality of life and life expectancy. After different foods are broken down into sugars during digestion, the sugars are then released into the bloodstream. This signals the pancreas to release insulin. Insulin helps enable cells within the body to use those sugars in the bloodstream for energy. Diabetes is generally characterized by either the body not making enough insulin or being unable to use the insulin that is made as effectively as needed.\\\n",
    "Complications like heart disease, vision loss, lower-limb amputation, and kidney disease are associated with chronically high levels of sugar remaining in the bloodstream for those with diabetes. While there is no cure for diabetes, strategies like losing weight, eating healthily, being active, and receiving medical treatments can mitigate the harms of this disease in many patients. Early diagnosis can lead to lifestyle changes and more effective treatment, making predictive models for diabetes risk important tools for public and public health officials.\n",
    "\n",
    "You work in the diabetology department at **Saint Luc University Hospital**. The head of the department has asked you to find a solution for classifying and predicting **whether patients are at high risk of developing diabetes**. This will enable them to schedule an appointment with these patients to set up prevention tools. To do this, you have a database of patients who have passed through the department in recent years. In addition, the head of the department feels that the poll is too long, and would like to **reduce the number of questions while maintaining the reliability and quality of the results**.\\\n",
    "Your aim is to determine which characteristics are relevant and enable reliable patient classification. Be careful, don’t let a potential diabetic patient slip through the cracks. The rest of this document will guide you in this process.\n",
    "\n",
    "## **Dataset description**\n",
    "\n",
    " \n",
    "The data set is a real-world data set based on a survey (BRFSS) conducted by the Centers for Disease Control and Prevention in the USA some ten years ago.\\\n",
    "The Behavioral Risk Factor Surveillance System (BRFSS) is an annual telephone health survey conducted by the Centers for Disease Control and Prevention. Each year, the survey collects responses from over 400,000 Americans on health-related risk behaviors, chronic diseases and use of preventive services. The survey has been conducted annually since 1984. It contains 22 headings and around 70,000 entries.\n",
    "\n",
    "\n",
    "<img src=\"figures/Features_table.png\" alt=\"drawing\" width=\"800\"/>\n",
    "\n",
    "## **Notebook structure**\n",
    "\n",
    "* PART 1 - Preliminaries\n",
    "   - 1.1 - Importing the packages\n",
    "   - 1.2 - Importing the dataset\n",
    "   - 1.3 - Is the dataset balanced?\n",
    "   - 1.4 - Scale the dataset\n",
    "    <br><br>\n",
    "* PART 2 - Correlation\n",
    "   - 2.1 - Correlation matrix \n",
    "   - 2.2 -Analyze the correlation with diabetes\n",
    "   - 2.3 - Model selection and parameters tuning\n",
    "   - 2.4 - Precision-Recall curve and thresholding\n",
    "   <br><br>\n",
    "* PART 3 - Classifiers\n",
    "   - 3.1 - Linear regressor\n",
    "   - 3.2 - Logisitic regressor\n",
    "   - 3.3 - KNN regressor\n",
    "   <br><br>\n",
    "* PART 4 - Validation metrics\n",
    "   - 4.1 - Precision score\n",
    "   - 4.2 - Recall score\n",
    "   - 4.3 - F1 score\n",
    "   <br><br>\n",
    "* PART 5 - Reduce the questionnaire size\n",
    "   - 5.1 - K-Fold preparation\n",
    "   - 5.2 - Find the right combination length/regressor\n",
    "   - 5.3 - Visualize the scores\n",
    "   <br><br>   \n",
    "* PART 6 - Visualization\n",
    "   - 6.1 - Visualize your results\n",
    "\n",
    "We filled this notebook with preliminary (trivial) code. This practice makes possible to run each cell, even the last ones, without throwing warnings. <b>Take advantage of this aspect to divide the work between all team members!</b> <br><br>\n",
    "Remember that many libraries exist in Python, so many functions have already been developed. Read the documentation and don't reinvent the wheel! You can import whatever you want.\n"
   ]
  },
  {
   "cell_type": "markdown",
   "metadata": {},
   "source": [
    "<br><font size=7 color=#009999> <b>PART I - Preliminaries</b> </font> <br><br>"
   ]
  },
  {
   "cell_type": "markdown",
   "metadata": {},
   "source": [
    "In this part of the hackathon, we will import the necessary packages, then we will import the dataset, scale it and analyze its distribution."
   ]
  },
  {
   "cell_type": "code",
   "execution_count": null,
   "metadata": {},
   "outputs": [],
   "source": [
    "\"\"\"\n",
    "CELL N°1.1 : IMPORTING ALL THE NECESSARY PACKAGES\n",
    "\n",
    "@pre:  /\n",
    "@post: The necessary packages should be loaded.\n",
    "\"\"\"\n",
    "import matplotlib.pyplot as plt\n",
    "import seaborn as sns\n",
    "import pandas as pd\n",
    "import numpy as np\n",
    "import warnings\n",
    "from sklearn.preprocessing import *\n",
    "from sklearn import datasets #\n",
    "from sklearn.model_selection import KFold\n",
    "warnings.filterwarnings('ignore')\n",
    "from sklearn.linear_model import LinearRegression\n",
    "from sklearn.linear_model import LogisticRegression\n",
    "from sklearn.neighbors import KNeighborsRegressor\n",
    "from sklearn.metrics import roc_curve, roc_auc_score\n",
    "from sklearn.metrics import confusion_matrix\n",
    "from sklearn.model_selection import train_test_split"
   ]
  },
  {
   "cell_type": "code",
   "execution_count": null,
   "metadata": {},
   "outputs": [],
   "source": [
    "\"\"\"\n",
    "CELL N°1.2 : IMPORTING THE DATASET\n",
    "\n",
    "@pre:  /\n",
    "@post: The object `df` should contain a Pandas DataFrame corresponding to the file `diabetes_dataset.csv`\n",
    "\"\"\"\n",
    "df = pd.read_csv(\"diabetes_dataset.csv\") # To modify\n",
    "\n",
    "df.info()\n",
    "df.describe()"
   ]
  },
  {
   "cell_type": "markdown",
   "metadata": {},
   "source": [
    "***Is the dataset balanced?***\n",
    "\n",
    "It's good practice to check this to better understand the contents of our dataset. The balance between the different classes has an impact on the binarization threshold (which is initialized here at 0.5). Other things can also have an impact on the choice of threshold."
   ]
  },
  {
   "cell_type": "code",
   "execution_count": null,
   "metadata": {},
   "outputs": [],
   "source": [
    "\"\"\"\n",
    "CELL N°1.3 : IS THE DATASET BALANCED?\n",
    "\n",
    "@pre:  `df` contains the dataset\n",
    "@post: Plot the diabetic/non-diabetic distribution in a pie chart\n",
    "\"\"\"\n",
    "\n",
    "diabetes_counts = df['Diabetes'].value_counts()\n",
    "\n",
    "# Création du camenbert\n",
    "labels = ['Non-Diabétique', 'Diabétique']\n",
    "colors = ['chartreuse', 'red']\n",
    "plt.figure(figsize=(6, 6))\n",
    "plt.pie(diabetes_counts, labels=labels, autopct='%1.1f%%', startangle=90, colors=colors)\n",
    "plt.title('Répartition des individus selon le diabète')\n",
    "plt.show()"
   ]
  },
  {
   "cell_type": "markdown",
   "metadata": {},
   "source": [
    "***Standardize*** is important when you work with data because it allows data to be compared with one another. \n",
    "\n",
    "$z$ is the standard score of a population $x$. It can be computed as follows:\n",
    "$$z = \\frac{x-\\mu}{\\sigma}$$\n",
    "with $\\mu$ the mean of the population and $\\sigma$ the standard deviation of the poplutation.\n",
    "\n",
    "Please consult, [Wikipedia](https://en.wikipedia.org/wiki/Standard_score) for further information about the standardization.\\\n",
    "Be careful to use the same formula as us, check in `scikit-learn`\n"
   ]
  },
  {
   "cell_type": "code",
   "execution_count": null,
   "metadata": {},
   "outputs": [],
   "source": [
    "\"\"\"\n",
    "CELL N°1.4 : SCALE THE DATASET\n",
    "\n",
    "@pre:  A pandas.DataFrame `df` containing the dataset\n",
    "@post: A pandas.DataFrame `df` containing the standardized dataset (except classification columns (Diabetes))\n",
    "\n",
    "\"\"\"\n",
    "def scale_dataset(df): \n",
    "    features = df.drop(columns =[\"Diabetes\"])\n",
    "    scaler = StandardScaler()\n",
    "    scaled_features = scaler.fit_transform(features)\n",
    "    scaled_df = pd.DataFrame(scaled_features, columns=features.columns, index=df.index)\n",
    "    scaled_df[\"Diabetes\"] = df [\"Diabetes\"]\n",
    "    scaled_df = scaled_df[[\"Diabetes\"] + [col for col in scaled_df.columns if col != \"Diabetes\"]]\n",
    "    return scaled_df\n",
    "\n",
    "df = scale_dataset(df)\n",
    "df.info()\n",
    "df.describe()"
   ]
  },
  {
   "cell_type": "markdown",
   "metadata": {},
   "source": [
    "<br><font size=7 color=#009999> <b>PART II - Correlation</b> </font> <br><br>"
   ]
  },
  {
   "cell_type": "markdown",
   "metadata": {},
   "source": [
    "***In order to keep*** the important features for our classification, we can compute and plot (see e.g. `seaborn.heatmap`) the correlation matrix. With these correlation coefficient, we can establish a feature selection strategy.\\\n",
    "Be sure to use the `pearson` correlation.\n"
   ]
  },
  {
   "cell_type": "code",
   "execution_count": null,
   "metadata": {},
   "outputs": [],
   "source": [
    "\"\"\"\n",
    "CELL N°2.1 : CORRELATION MATRIX\n",
    "\n",
    "@pre:  `df` contains the diabetes dataset\n",
    "@post: `corr_matrix` is a Pandas DataFrame that contains the correlation matrix of the full dataset\n",
    "\"\"\"\n",
    "\n",
    "### Calculate correlation matrix\n",
    "\n",
    "# Calculate \"pearson\" correlation matrix\n",
    "corr_matrix = df.corr(method='pearson') \n",
    "#corr_matrix.info()\n",
    "#corr_matrix.describe()\n",
    "\n",
    "\n",
    "### Plot with seaborn heatmap\n",
    "\n",
    "# Plot & costumisation\n",
    "sns.heatmap(corr_matrix, cmap=\"Blues\", annot=False, square=True, )\n",
    "\n",
    "\n",
    "#Tutorial: https://www.geeksforgeeks.org/create-a-correlation-matrix-using-python/\n",
    "\n",
    "#TODO: enlever les prints, .info(), .describe(), etc dans le code, faire du clean-up!"
   ]
  },
  {
   "cell_type": "markdown",
   "metadata": {},
   "source": [
    "After this visualization, it is time to sort the coefficients of correlation to keep them with the best correlation with `Diabetes`. **Be careful** with the sign."
   ]
  },
  {
   "cell_type": "code",
   "execution_count": null,
   "metadata": {},
   "outputs": [],
   "source": [
    "\"\"\"\n",
    "CELL N°2.2 : ANALYZE THE CORRELATION WITH DIABETE\n",
    "\n",
    "@pre:  `corr_matrix` is a Pandas DataFrame that contains the correlation matrix of the training set\n",
    "@post: `sorted_features` contains a list of features (columns of `df`) \n",
    "       sorted according to their correlation with `Diabetes` \n",
    "\"\"\"\n",
    "\n",
    "def sort_features(corr_matrix):\n",
    "    # Sort the correlation matrix with respect to the target variable\n",
    "    sorted_corr_matrix = corr_matrix[\"Diabetes\"].abs().sort_values(ascending=False)\n",
    "    print(sorted_corr_matrix)\n",
    "    return(sorted_corr_matrix)\n",
    "\n",
    "#Tutorial: https://www.geeksforgeeks.org/sort-correlation-matrix-in-python/\n",
    "\n",
    "sorted_features = sort_features(corr_matrix)"
   ]
  },
  {
   "cell_type": "markdown",
   "metadata": {},
   "source": [
    "<br><font size=7 color=#009999> <b>PART III - Classifiers</b> </font> <br><br>"
   ]
  },
  {
   "cell_type": "markdown",
   "metadata": {},
   "source": [
    "In this third part, you need to write functions that return a lamba function with a classifier for the test set. **Be careful** to keep the same form as the one suggested to pass the sanity checks."
   ]
  },
  {
   "cell_type": "markdown",
   "metadata": {},
   "source": [
    "**Implement** the *linear_regressor*. Please follow the specifications in the provided template.\n",
    "\n",
    "**Reminder:** Linear regressor is a model that predicts a continuous value by fitting a line (or hyperplane) to the data, minimizing the difference between observed and predicted values.\n",
    "\n",
    "Please consult, [Wikipedia](https://en.wikipedia.org/wiki/Linear_regression) for further information about the classifier."
   ]
  },
  {
   "cell_type": "code",
   "execution_count": null,
   "metadata": {},
   "outputs": [],
   "source": [
    "\"\"\"\n",
    "CELL N°3.1 : LINEAR REGRESSOR\n",
    "\n",
    "@pre:  `X_train` and `y_train` contain the training set of `df` and a threshold that is a numerical value (float) by default 0.5.\n",
    "@post: Lambda function that takes `X_test` and returns a 1D array of binary predictions (0 or 1) according to the given threshold.\n",
    "\"\"\"\n",
    "\n",
    "def linear_regressor(X_train, y_train, threshold = 0.5):\n",
    "\n",
    "    model = LinearRegression().fit(X_train, y_train)\n",
    "    \n",
    "    return lambda X_test : (model.predict(X_test)>=threshold).astype(int)"
   ]
  },
  {
   "cell_type": "markdown",
   "metadata": {},
   "source": [
    "**Implement** the *logistic_regressor*. Please follow the specifications in the provided template.\n",
    "\n",
    "**Reminder:** Logisitic regressor is a classification model that estimates the probability of an observation belonging to a class using a logistic function; suitable for binary (and multiclass) problems.\n",
    "\n",
    "Please consult, [Wikipedia](https://en.wikipedia.org/wiki/Linear_regression) for further information about the classifier."
   ]
  },
  {
   "cell_type": "code",
   "execution_count": null,
   "metadata": {},
   "outputs": [],
   "source": [
    "\"\"\"\n",
    "CELL N°3.2 : LOGISTIC REGRESSOR\n",
    "\n",
    "@pre:  `X_train` and `y_train` contain the training set of `df` and a threshold that is a numerical value (float) by default 0.5.\n",
    "@post:  Lambda function that takes `X_test` and returns a 1D array of binary predictions (0 or 1) according to the given threshold.\n",
    "\"\"\"\n",
    "\n",
    "def logistic_regressor(X_train, y_train, threshold = 0.5):\n",
    "    model = LogisticRegression().fit(X_train, y_train)\n",
    "    \n",
    "    return lambda X_test : (model.predict_proba(X_test)[:,1] > threshold).astype(int)\n"
   ]
  },
  {
   "cell_type": "markdown",
   "metadata": {},
   "source": [
    "**Implement** the *knn_regressor*. Please follow the specifications in the provided template.  <br>\n",
    "\n",
    "**Reminder:** Knn regressor is a non-parametric classification algorithm that classifies an observation according to the classes of its k nearest neighbors in feature space.\n",
    "\n",
    "Please consult, [Wikipedia](https://en.wikipedia.org/wiki/K-nearest_neighbors_algorithm) for further information about the classifier.\\\n",
    "Attention, you must implement it with **Euclidian distance** and **10** neighbors."
   ]
  },
  {
   "cell_type": "code",
   "execution_count": null,
   "metadata": {},
   "outputs": [],
   "source": [
    "\"\"\"\n",
    "CELL N°3.3 : KNN REGRESSOR\n",
    "\n",
    "@pre:  `X_train` and `y_train` contain the training set of `df` and a threshold that is a numerical value (float) by default 0.5.\n",
    "@post: Lambda function that takes `X_test` and returns a 1D array of binary predictions (0 or 1) according to the given threshold.\n",
    "\"\"\"\n",
    "\n",
    "def knn_regressor(X_train, y_train, threshold = 0.5, n_neighbors = 10):\n",
    "    model = KNeighborsRegressor(n_neighbors).fit(X_train, y_train)\n",
    "    \n",
    "    return lambda X_test : (model.predict(X_test)>=threshold).astype(int)"
   ]
  },
  {
   "cell_type": "markdown",
   "metadata": {},
   "source": [
    "<br><font size=7 color=#009999> <b>PART IV - Validation metrics</b> </font> <br><br>"
   ]
  },
  {
   "cell_type": "markdown",
   "metadata": {},
   "source": [
    "In this part, we will implement tools that will help us to **validate** the prediction models implemented in Part III. In particular, we will use the _precision, recall_ and _F1 score_ metrics. \n",
    "\n",
    "**Implement** the _precision, recall_ and _F1 score_. Please follow the specifications in the provided template.  <br>"
   ]
  },
  {
   "cell_type": "markdown",
   "metadata": {},
   "source": [
    "**Reminder**\n",
    "\n",
    "$F_1$ is a performance metric allowing to obtain some trade-off between the precision and recall criterions. It can be computed as follows:\n",
    "$$F_1 = 2~\\frac{\\mathrm{precision} \\cdot \\mathrm{recall}}{\\mathrm{precision} + \\mathrm{recall}}.$$\n",
    "\n",
    "Please consult, [Wikipedia](https://en.wikipedia.org/wiki/F-score) for further information about the three metrics."
   ]
  },
  {
   "cell_type": "code",
   "execution_count": null,
   "metadata": {},
   "outputs": [],
   "source": [
    "\"\"\"\n",
    "CELL N°4.1 : PRECISION SCORE\n",
    "\n",
    "@pre:  /\n",
    "@post: `precision(y_test, y_pred)` returns the prediction metric based on the predicted labels `y_pred`\n",
    "       and the true labels `y_test`. \n",
    "\"\"\"\n",
    "\n",
    "def precision(y_test, y_pred):\n",
    "    # To modify\n",
    "    predict_true=0\n",
    "    real_true=0\n",
    "    for i in range(len(y_test)):\n",
    "        if y_test[i]==y_pred[i]==1:\n",
    "            real_true+=1\n",
    "        if y_pred[i]==1:\n",
    "              predict_true+=1\n",
    "    if predict_true==0: return 0\n",
    "    return real_true/predict_true"
   ]
  },
  {
   "cell_type": "code",
   "execution_count": null,
   "metadata": {},
   "outputs": [],
   "source": [
    "\"\"\"\n",
    "CELL N°4.2 : RECALL SCORE\n",
    "\n",
    "@pre:  /\n",
    "@post: `recall(y_test, y_pred)` returns the recall metric based on the predicted labels `y_pred`\n",
    "       and the true labels `y_test`. \n",
    "\"\"\"\n",
    "\n",
    "def recall(y_test, y_pred):\n",
    "    # To modify\n",
    "    real_true=0\n",
    "    all_true=0\n",
    "    for k in range(len(y_test)):\n",
    "        if y_test[k]==y_pred[k]==1:\n",
    "            real_true+=1\n",
    "        if y_test[k]==1:\n",
    "            all_true+=1\n",
    "    if all_true==0: return 0\n",
    "    return real_true/all_true"
   ]
  },
  {
   "cell_type": "code",
   "execution_count": null,
   "metadata": {},
   "outputs": [],
   "source": [
    "\"\"\"\n",
    "CELL N°4.3 : F1 SCORE\n",
    "\n",
    "@pre:  /\n",
    "@post: `f1_score(y_test, y_pred)` returns the F1 score metric based on the predicted labels `y_pred`\n",
    "       and the true labels `y_test`. \n",
    "\"\"\"\n",
    "\n",
    "def f1_score(y_test, y_pred):\n",
    "    r=recall(y_test,y_pred)\n",
    "    p=precision(y_test,y_pred)\n",
    "    if(r==p==0): return 0\n",
    "    return 2/((r)**(-1)+(p)**(-1))"
   ]
  },
  {
   "cell_type": "markdown",
   "metadata": {},
   "source": [
    "<br><font size=7 color=#009999> <b>PART V - Reduce the questionnaire size</b> </font> <br><br>"
   ]
  },
  {
   "cell_type": "markdown",
   "metadata": {},
   "source": [
    "In this part, find a model that satisfies the following specifications: \n",
    "- A recall of at least 95%\n",
    "- A F1 score of at least 75%\n",
    "\n",
    "For that, we will use **k-fold** cross validation (see [the Wikipedia page](https://en.wikipedia.org/wiki/Cross-validation_(statistics)#k-fold_cross-validation) for a reminder), and then test the three models above with \n",
    "- Different number of features\n",
    "- Different thresholds"
   ]
  },
  {
   "cell_type": "markdown",
   "metadata": {},
   "source": [
    "In order to use k-fold cross validation, use the class `sklearn.model_selection.KFold` from the `scikit-learn` library (see [the documentation](https://scikit-learn.org/dev/modules/generated/sklearn.model_selection.KFold.html)) with `n_splits = 3`.\n",
    "\n",
    "<div class=\"alert alert-danger\">\n",
    "<b>[IMPORTANT] Grading</b>  <br>\n",
    "In order for us to be able to automatically grade your submission, put <code>shuffle=True</code>, and <code>random_state=1109</code> when you initialize <code>KFold</code>.\n",
    "</div>"
   ]
  },
  {
   "cell_type": "code",
   "execution_count": null,
   "metadata": {},
   "outputs": [],
   "source": [
    "\"\"\"\n",
    "CELL N°5.1 : K-FOLD PREPARATION\n",
    "\n",
    "@pre:  `df` contains the scaled dataset.\n",
    "@post: The following specifications should be satisfied: \n",
    "            - `kf` should contain a `KFold` object with 3 splits, shuffled and with 1109 seed. \n",
    "            - `X` should contain a pd.DataFrame with all the features (all columns except `Diabetes`)\n",
    "            - `y` should contain a pd.DataFrame with all the labels (only the column `Diabetes`)\n",
    "\"\"\"\n",
    "\n",
    "kf = KFold(n_splits = 3,shuffle=True,random_state=1109)\n",
    "\n",
    "X = df.drop(columns=[\"Diabetes\"]) #remove the column \"Diabetes\"\n",
    "y = df[\"Diabetes\"] #keep only the column \"Diabetes\""
   ]
  },
  {
   "cell_type": "markdown",
   "metadata": {},
   "source": [
    "In order to find our model, proceed as follows: \n",
    "- Fix a threshold in $(0, 1)$\n",
    "- Define a dictionary `result` of the form \n",
    "\n",
    "<code>result = {\n",
    "    \"linear\": {}, \n",
    "    \"logistic\": {}, \n",
    "    \"knn\": {}\n",
    "}\n",
    "</code>\n",
    "\n",
    "- For $ i \\in \\{1, \\dots, \\texttt{N\\_features}\\} $: \n",
    "    - Select the $i$ **most correlated features** (use `sorted_features` defined above)\n",
    "    - For all the pairs $((X_{\\text{train}}, y_{\\text{train}}), (X_{\\text{test}}, y_{\\text{test}}))$ given by k-fold\n",
    "        - Compute the linear, logistic and KNN regressors with the fixed threshold on $X_{\\text{train}}$\n",
    "        - Compute the 3 different 3-tuple `validation(regressor, X_test, y_test)`\n",
    "    - In `result[reg][i]`, save the **average** of all the validation tuples you computed for `reg`"
   ]
  },
  {
   "cell_type": "code",
   "execution_count": null,
   "metadata": {},
   "outputs": [],
   "source": [
    "\"\"\"\n",
    "CELL N°5.2 : FIND THE RIGHT COMBINATION LENGTH/REGRESSOR\n",
    "\n",
    "@pre:  `kf`, `X` and `y` are defined such as in the @post of CELL 5.1. \n",
    "@post: `result` is such that `result[reg][i]` contains the average of the validations for regressor `reg`, \n",
    "       when keeping the `i` most correlated features\n",
    "\"\"\"\n",
    "\n",
    "def validation(regressor, X_test, y_test):\n",
    "    # Nothing to do here!\n",
    "    y_pred = regressor(X_test)\n",
    "    return (recall(y_test, y_pred), precision(y_test, y_pred), f1_score(y_test, y_pred))\n",
    "\n",
    "# To modify\n",
    "threshold = 0.5\n",
    "result = {\n",
    "    \"linear\":{}, \n",
    "    \"logistic\":{}, \n",
    "    \"knn\":{}\n",
    "}\n",
    "\n",
    "y_arr = np.array(y)\n",
    "corr=df.corr()[\"Diabetes\"].drop(\"Diabetes\").abs() #correlations between \"Diabetes\" and the other features\n",
    "\n",
    "for i in np.arange(1,X.shape[1]+1,dtype=int): #faire pour different nombre de collonne choisie (attention pas faire i=0)\n",
    "    \n",
    "    print(i) #to know where the program is\n",
    "    \n",
    "    corLargest=corr.nlargest(n=i) #keep only i features with the biggest correlation\n",
    "    iMostCor=df[corLargest.index.tolist()] #i features most correlated\n",
    "    iMostCorArr=np.array(iMostCor)\n",
    "    \n",
    "    val=np.zeros((3,3,3)) #help to compute the mean\n",
    "    j=0\n",
    "    \n",
    "    for train_index, test_index in kf.split(iMostCor):\n",
    "        \n",
    "        X_train, X_test = iMostCorArr[train_index, :], iMostCorArr[test_index, :]\n",
    "        y_train, y_test = y_arr[train_index].ravel(), y_arr[test_index].ravel()\n",
    "        \n",
    "        #create the regressors\n",
    "        linReg=linear_regressor(X_train,y_train,threshold)\n",
    "        logReg=logistic_regressor(X_train,y_train,threshold)\n",
    "        knnReg=knn_regressor(X_train,y_train,threshold)\n",
    "        \n",
    "        val[0,j]=validation(linReg, X_test, y_test)\n",
    "        val[1,j]=validation(logReg, X_test, y_test)\n",
    "        val[2,j]=validation(knnReg, X_test, y_test)\n",
    "        \n",
    "        j+=1\n",
    "\n",
    "    result[\"linear\"][i]=np.sum(val[0], axis=0)/3\n",
    "    result[\"logistic\"][i]=np.sum(val[1], axis=0)/3\n",
    "    result[\"knn\"][i]=np.sum(val[2], axis=0)/3\n"
   ]
  },
  {
   "cell_type": "markdown",
   "metadata": {},
   "source": [
    "The following cell allows you to test if the threshold that you chose satisfies the specifications, that are \n",
    "- A recall of at least 95%\n",
    "- A F1 score of at least 75%\n",
    "\n",
    "Plot these graphs for different threshold, and select the model **with the smallest number of questions** that satisfy the conditions above."
   ]
  },
  {
   "cell_type": "code",
   "execution_count": null,
   "metadata": {},
   "outputs": [],
   "source": [
    "\"\"\"\n",
    "CELL N°5.3 : VISUALIZE THE SCORES\n",
    "\n",
    "@pre:  `result` contains the average of the validations for regressor `reg`, when keeping the `i` most correlated features\n",
    "@post: plot of the scores for each condition\n",
    "\"\"\"\n",
    "\n",
    "print(result)\n",
    "\n",
    "# Nothing to do here, just run me! \n",
    "\n",
    "from helper import plot_result\n",
    "plot_result(result, threshold, to_show = \"recall\")\n",
    "plot_result(result, threshold, to_show = \"f1_score\")"
   ]
  },
  {
   "cell_type": "markdown",
   "metadata": {},
   "source": [
    "<br><font size=7 color=#009999> <b>PART VI - Visualization</b> </font> <br><br>\n"
   ]
  },
  {
   "cell_type": "markdown",
   "metadata": {},
   "source": [
    "In this part, you are asked to produce a **clear and clean figure** expressing a result\n",
    "or giving an overall vision of your work for this hackaton. **Please feel free to do as you\n",
    "wish. Be original!** \n",
    "\n",
    "The **clarity**, **content** and **description** (in the report) of your figure will be evaluated."
   ]
  },
  {
   "cell_type": "code",
   "execution_count": null,
   "metadata": {},
   "outputs": [],
   "source": [
    "\"\"\"\n",
    "CELL N°6.1 : VISUALIZE YOUR RESULTS\n",
    "\n",
    "@pre:  /\n",
    "@post: /\n",
    "\"\"\"\n",
    "\n",
    "X = df.drop(columns=[\"Diabetes\"]) \n",
    "y = df[\"Diabetes\"]                \n",
    "\n",
    "\n",
    "X_train, X_test, y_train, y_test = train_test_split(X, y, test_size=0.2, random_state=1109)\n",
    "\n",
    "model = LogisticRegression()\n",
    "model.fit(X_train, y_train)\n",
    "\n",
    "\n",
    "beta = model.coef_.flatten()   \n",
    "intercept = model.intercept_[0]  \n",
    "\n",
    "beta_hat_dot_X_test = np.dot(X_test, beta) + intercept \n",
    "y_test = np.array(y_test)  \n",
    "\n",
    "\n",
    "threshold = 0.22 # A modifier\n",
    "predicted = beta_hat_dot_X_test >= threshold  \n",
    "\n",
    "\n",
    "tp = (predicted == 1) & (y_test == 1)  \n",
    "tn = (predicted == 0) & (y_test == 0)  \n",
    "fp = (predicted == 1) & (y_test == 0)  \n",
    "fn = (predicted == 0) & (y_test == 1) \n",
    "\n",
    "\n",
    "sns.set_style(\"whitegrid\")\n",
    "plt.figure(figsize=(12, 8))\n",
    "\n",
    "plt.scatter(beta_hat_dot_X_test[tp], y_test[tp], color='green', alpha=0.7, edgecolor='k', label=\"True Positives (TP)\")\n",
    "plt.scatter(beta_hat_dot_X_test[tn], y_test[tn], color='blue', alpha=0.7, edgecolor='k', label=\"True Negatives (TN)\")\n",
    "plt.scatter(beta_hat_dot_X_test[fp], y_test[fp], color='orange', alpha=0.7, edgecolor='k', label=\"False Positives (FP)\")\n",
    "plt.scatter(beta_hat_dot_X_test[fn], y_test[fn], color='red', alpha=0.7, edgecolor='k', label=\"False Negatives (FN)\")\n",
    "\n",
    "plt.fill_betweenx(\n",
    "    y=[min(y_test) - 0.5, max(y_test) + 0.5],\n",
    "    x1=min(beta_hat_dot_X_test) - 0.5,\n",
    "    x2=threshold,\n",
    "    color=\"lightblue\",\n",
    "    alpha=0.2,\n",
    "    label=\"Negative Region\"\n",
    ")\n",
    "plt.fill_betweenx(\n",
    "    y=[min(y_test) - 0.5, max(y_test) + 0.5],\n",
    "    x1=threshold,\n",
    "    x2=max(beta_hat_dot_X_test) + 0.5,\n",
    "    color=\"lightcoral\",\n",
    "    alpha=0.2,\n",
    "    label=\"Positive Region\"\n",
    ")\n",
    "\n",
    "plt.axvline(x=threshold, color='black', linestyle='--', linewidth=2, label=\"Threshold ($\\\\tau = 0.22$)\")\n",
    "\n",
    "\n",
    "plt.title(r\"Scatter Plot for Logistic Regression Predictions\", fontsize=16)\n",
    "plt.xlabel(r\"$\\hat{\\beta}^\\top x_i$\", fontsize=14)\n",
    "plt.ylabel(\"Diabetes Prediction\", fontsize=14)\n",
    "plt.legend(fontsize=12, loc=\"upper left\")\n",
    "plt.xticks(fontsize=12)\n",
    "plt.yticks(fontsize=12)\n",
    "\n",
    "plt.show()"
   ]
  },
  {
   "cell_type": "code",
   "execution_count": null,
   "metadata": {},
   "outputs": [],
   "source": []
  }
 ],
 "metadata": {
  "kernelspec": {
   "display_name": "base",
   "language": "python",
   "name": "python3"
  },
  "language_info": {
   "codemirror_mode": {
    "name": "ipython",
    "version": 3
   },
   "file_extension": ".py",
   "mimetype": "text/x-python",
   "name": "python",
   "nbconvert_exporter": "python",
   "pygments_lexer": "ipython3",
   "version": "3.9.13"
  }
 },
 "nbformat": 4,
 "nbformat_minor": 4
}
